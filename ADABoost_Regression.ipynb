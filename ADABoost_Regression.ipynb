{
  "nbformat": 4,
  "nbformat_minor": 0,
  "metadata": {
    "colab": {
      "name": "ADABoost_Regression.ipynb",
      "version": "0.3.2",
      "provenance": [],
      "collapsed_sections": [],
      "include_colab_link": true
    },
    "kernelspec": {
      "name": "python3",
      "display_name": "Python 3"
    }
  },
  "cells": [
    {
      "cell_type": "markdown",
      "metadata": {
        "id": "view-in-github",
        "colab_type": "text"
      },
      "source": [
        "[View in Colaboratory](https://colab.research.google.com/github/gtambi143/ADABoost/blob/master/ADABoost_Regression.ipynb)"
      ]
    },
    {
      "metadata": {
        "id": "itAlhY1EQpiK",
        "colab_type": "code",
        "colab": {
          "base_uri": "https://localhost:8080/",
          "height": 72
        },
        "outputId": "ead29b39-592d-4048-89df-bedc01c8bda1"
      },
      "cell_type": "code",
      "source": [
        "import numpy as np\n",
        "import pandas as pd\n",
        "from matplotlib import pyplot as plt\n",
        "from sklearn import ensemble\n",
        "from sklearn.cross_validation import train_test_split\n",
        "from sklearn import datasets\n",
        "from sklearn import metrics"
      ],
      "execution_count": 1,
      "outputs": [
        {
          "output_type": "stream",
          "text": [
            "/usr/local/lib/python3.6/dist-packages/sklearn/cross_validation.py:41: DeprecationWarning: This module was deprecated in version 0.18 in favor of the model_selection module into which all the refactored classes and functions are moved. Also note that the interface of the new CV iterators are different from that of this module. This module will be removed in 0.20.\n",
            "  \"This module will be removed in 0.20.\", DeprecationWarning)\n"
          ],
          "name": "stderr"
        }
      ]
    },
    {
      "metadata": {
        "id": "_QdirEyvRAga",
        "colab_type": "code",
        "colab": {}
      },
      "cell_type": "code",
      "source": [
        "#loading the Housing Price dataset. Regression Dataset\n",
        "boston_data = datasets.load_boston()\n",
        "\n",
        "train_x, test_x, train_y, test_y = train_test_split(boston_data.data, boston_data.target, test_size = 0.33, random_state = 0)"
      ],
      "execution_count": 0,
      "outputs": []
    },
    {
      "metadata": {
        "id": "6aUgKfz7XMVc",
        "colab_type": "text"
      },
      "cell_type": "markdown",
      "source": [
        "# **Working of ADABoost Regression**\n",
        "An AdaBoost regressor.\n",
        "\n",
        "An AdaBoost [1] regressor is a meta-estimator that begins by fitting a regressor on the original dataset and then fits additional copies of the regressor on the same dataset but where the weights of instances are adjusted according to the error of the current prediction. As such, subsequent regressors focus more on difficult cases.\n",
        "\n",
        "This class implements the algorithm known as AdaBoost.R2 [2]."
      ]
    },
    {
      "metadata": {
        "id": "JewI7_XZ78gc",
        "colab_type": "text"
      },
      "cell_type": "markdown",
      "source": [
        "# **Using Linear Loss Function**"
      ]
    },
    {
      "metadata": {
        "id": "gXSMcuz477by",
        "colab_type": "code",
        "colab": {
          "base_uri": "https://localhost:8080/",
          "height": 34
        },
        "outputId": "73dab84d-e55f-4d49-9e37-9fbc5a43f3a0"
      },
      "cell_type": "code",
      "source": [
        "model_ada = ensemble.AdaBoostRegressor(base_estimator=None, n_estimators=50, learning_rate=1.0, loss='linear', random_state=None)\n",
        "\n",
        "model_ada.fit(train_x, train_y)\n",
        "\n",
        "model_ada.score(train_x,train_y)\n",
        "\n",
        "predicted_test = model_ada.predict(test_x)\n",
        "\n",
        "metrics.mean_squared_error(predicted_test, test_y)\n"
      ],
      "execution_count": 41,
      "outputs": [
        {
          "output_type": "execute_result",
          "data": {
            "text/plain": [
              "21.540875778080107"
            ]
          },
          "metadata": {
            "tags": []
          },
          "execution_count": 41
        }
      ]
    },
    {
      "metadata": {
        "id": "QdQSJvgOG38B",
        "colab_type": "text"
      },
      "cell_type": "markdown",
      "source": [
        "# **Using Square Loss Function**"
      ]
    },
    {
      "metadata": {
        "id": "HG0tAdHJG7hl",
        "colab_type": "code",
        "colab": {
          "base_uri": "https://localhost:8080/",
          "height": 34
        },
        "outputId": "df7b3ecc-55d0-4c8e-9056-6ccac25f83b7"
      },
      "cell_type": "code",
      "source": [
        "model_ada = ensemble.AdaBoostRegressor(base_estimator=None, n_estimators=50, learning_rate=1.0, loss='square', random_state=None)\n",
        "\n",
        "model_ada.fit(train_x, train_y)\n",
        "\n",
        "model_ada.score(train_x,train_y)\n",
        "\n",
        "predicted_test = model_ada.predict(test_x)\n",
        "\n",
        "metrics.mean_squared_error(predicted_test, test_y)"
      ],
      "execution_count": 43,
      "outputs": [
        {
          "output_type": "execute_result",
          "data": {
            "text/plain": [
              "20.325319882372575"
            ]
          },
          "metadata": {
            "tags": []
          },
          "execution_count": 43
        }
      ]
    },
    {
      "metadata": {
        "id": "4AI3h9kPFyTl",
        "colab_type": "text"
      },
      "cell_type": "markdown",
      "source": [
        "# **Using Exponential Loss Function**"
      ]
    },
    {
      "metadata": {
        "id": "fhiTa358F5ak",
        "colab_type": "code",
        "colab": {
          "base_uri": "https://localhost:8080/",
          "height": 34
        },
        "outputId": "7a63810a-7b60-42b3-f7d2-7be9eb2611ea"
      },
      "cell_type": "code",
      "source": [
        "model_ada = ensemble.AdaBoostRegressor(base_estimator=None, n_estimators=50, learning_rate=1.0, loss='exponential', random_state=None)\n",
        "\n",
        "model_ada.fit(train_x, train_y)\n",
        "\n",
        "model_ada.score(train_x,train_y)\n",
        "\n",
        "predicted_test = model_ada.predict(test_x)\n",
        "\n",
        "metrics.mean_squared_error(predicted_test, test_y)"
      ],
      "execution_count": 45,
      "outputs": [
        {
          "output_type": "execute_result",
          "data": {
            "text/plain": [
              "20.64046812009873"
            ]
          },
          "metadata": {
            "tags": []
          },
          "execution_count": 45
        }
      ]
    },
    {
      "metadata": {
        "id": "uQL0NW1o-okV",
        "colab_type": "text"
      },
      "cell_type": "markdown",
      "source": [
        "# **Some useful function for the ADABoost model**"
      ]
    },
    {
      "metadata": {
        "id": "QW1po9_P-jSZ",
        "colab_type": "code",
        "colab": {
          "base_uri": "https://localhost:8080/",
          "height": 950
        },
        "outputId": "d8c83f28-6e49-4a2b-e2b9-e0cc16f014b6"
      },
      "cell_type": "code",
      "source": [
        "model_ada.feature_importances_ #this will give the feature importance of the features. Higher the value higher the importance.\n",
        "\n",
        "#plotting the feature importance\n",
        "plt.figure(figsize=(18,15))\n",
        "plt.bar(boston_data.feature_names, model_ada.feature_importances_)\n",
        "\n",
        "model_ada.base_estimator_"
      ],
      "execution_count": 47,
      "outputs": [
        {
          "output_type": "execute_result",
          "data": {
            "text/plain": [
              "DecisionTreeRegressor(criterion='mse', max_depth=3, max_features=None,\n",
              "           max_leaf_nodes=None, min_impurity_decrease=0.0,\n",
              "           min_impurity_split=None, min_samples_leaf=1,\n",
              "           min_samples_split=2, min_weight_fraction_leaf=0.0,\n",
              "           presort=False, random_state=None, splitter='best')"
            ]
          },
          "metadata": {
            "tags": []
          },
          "execution_count": 47
        },
        {
          "output_type": "display_data",
          "data": {
            "image/png": "[encoded data removed]",
            "text/plain": [
              "<matplotlib.figure.Figure at 0x7fb0a847aeb8>"
            ]
          },
          "metadata": {
            "tags": []
          }
        }
      ]
    }
  ]
}