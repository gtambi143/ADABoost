{
  "nbformat": 4,
  "nbformat_minor": 0,
  "metadata": {
    "colab": {
      "name": "ADABoost.ipynb",
      "version": "0.3.2",
      "provenance": [],
      "collapsed_sections": [],
      "include_colab_link": true
    },
    "kernelspec": {
      "name": "python3",
      "display_name": "Python 3"
    }
  },
  "cells": [
    {
      "cell_type": "markdown",
      "metadata": {
        "id": "view-in-github",
        "colab_type": "text"
      },
      "source": [
        "[View in Colaboratory](https://colab.research.google.com/github/gtambi143/ADABoost/blob/master/ADABoost_Classification.ipynb)"
      ]
    },
    {
      "metadata": {
        "id": "itAlhY1EQpiK",
        "colab_type": "code",
        "colab": {}
      },
      "cell_type": "code",
      "source": [
        "import numpy as np\n",
        "import pandas as pd\n",
        "from matplotlib import pyplot as plt\n",
        "from sklearn import ensemble\n",
        "from sklearn.cross_validation import train_test_split\n",
        "from sklearn import datasets\n",
        "from sklearn import metrics"
      ],
      "execution_count": 0,
      "outputs": []
    },
    {
      "metadata": {
        "id": "_QdirEyvRAga",
        "colab_type": "code",
        "colab": {}
      },
      "cell_type": "code",
      "source": [
        "#loading the wine dataset\n",
        "wine_data = datasets.load_wine()\n",
        "\n",
        "train_x, test_x, train_y, test_y = train_test_split(wine_data.data, wine_data.target, test_size = 0.33, random_state = 0)"
      ],
      "execution_count": 0,
      "outputs": []
    },
    {
      "metadata": {
        "id": "6aUgKfz7XMVc",
        "colab_type": "text"
      },
      "cell_type": "markdown",
      "source": [
        "# **Algorithms for ADABoost**\n",
        "There are 2 algorithms which we can use to make a ADABoost model.\n",
        "1.   SAMME.R\n",
        "2.   SAMME\n",
        "\n",
        "If ‘SAMME.R’ then use the SAMME.R real boosting algorithm. base_estimator must support calculation of class probabilities. If ‘SAMME’ then use the SAMME discrete boosting algorithm. The SAMME.R algorithm typically converges faster than SAMME, achieving a lower test error with fewer boosting iterations.\n",
        "\n",
        "Discrete SAMME AdaBoost adapts based on errors in predicted class labels whereas real SAMME.R uses the predicted class probabilities.\n",
        "\n"
      ]
    },
    {
      "metadata": {
        "id": "JewI7_XZ78gc",
        "colab_type": "text"
      },
      "cell_type": "markdown",
      "source": [
        "# **Using SAMME.R**"
      ]
    },
    {
      "metadata": {
        "id": "gXSMcuz477by",
        "colab_type": "code",
        "colab": {
          "base_uri": "https://localhost:8080/",
          "height": 34
        },
        "outputId": "2432d4dd-3286-487d-8c6d-a855180340c6"
      },
      "cell_type": "code",
      "source": [
        "model_ada = ensemble.AdaBoostClassifier(base_estimator=None, n_estimators=50, learning_rate=1, algorithm='SAMME.R', random_state=None)\n",
        "\n",
        "model_ada.fit(train_x, train_y)\n",
        "\n",
        "model_ada.score(train_x,train_y)\n",
        "\n",
        "predicted_test = model_ada.predict(test_x)\n",
        "\n",
        "metrics.accuracy_score(predicted_test,test_y)"
      ],
      "execution_count": 50,
      "outputs": [
        {
          "output_type": "execute_result",
          "data": {
            "text/plain": [
              "0.8983050847457628"
            ]
          },
          "metadata": {
            "tags": []
          },
          "execution_count": 50
        }
      ]
    },
    {
      "metadata": {
        "id": "kbe5bOKI9QIi",
        "colab_type": "text"
      },
      "cell_type": "markdown",
      "source": [
        "# **Using SAMME**"
      ]
    },
    {
      "metadata": {
        "id": "R0u--eyV9S_y",
        "colab_type": "code",
        "colab": {
          "base_uri": "https://localhost:8080/",
          "height": 34
        },
        "outputId": "84f8eb47-3813-4d44-99a9-bb6bdc8e2dc5"
      },
      "cell_type": "code",
      "source": [
        "model_ada = ensemble.AdaBoostClassifier(base_estimator=None, n_estimators=50, learning_rate=1, algorithm='SAMME', random_state=None)\n",
        "\n",
        "model_ada.fit(train_x, train_y)\n",
        "\n",
        "model_ada.score(train_x,train_y)\n",
        "\n",
        "predicted_test = model_ada.predict(test_x)\n",
        "\n",
        "metrics.accuracy_score(predicted_test,test_y)"
      ],
      "execution_count": 52,
      "outputs": [
        {
          "output_type": "execute_result",
          "data": {
            "text/plain": [
              "0.9661016949152542"
            ]
          },
          "metadata": {
            "tags": []
          },
          "execution_count": 52
        }
      ]
    },
    {
      "metadata": {
        "id": "uQL0NW1o-okV",
        "colab_type": "text"
      },
      "cell_type": "markdown",
      "source": [
        "# **Some useful function for the ADABoost model**"
      ]
    },
    {
      "metadata": {
        "id": "QW1po9_P-jSZ",
        "colab_type": "code",
        "colab": {
          "base_uri": "https://localhost:8080/",
          "height": 1883
        },
        "outputId": "c66b1bd4-8d95-4a05-8621-356b9ba9847c"
      },
      "cell_type": "code",
      "source": [
        "model_ada.feature_importances_ #this will give the feature importance of the features. Higher the value higher the importance.\n",
        "\n",
        "#plotting the feature importance\n",
        "plt.figure(figsize=(18,15))\n",
        "plt.bar(wine_data.feature_names, model_ada.feature_importances_)\n",
        "\n",
        "#getting the predicted probability for each class\n",
        "model_ada.predict_log_proba(test_x) #will give log(probability)\n",
        "model_ada.predict_proba(test_x) #give normal probability"
      ],
      "execution_count": 54,
      "outputs": [
        {
          "output_type": "execute_result",
          "data": {
            "text/plain": [
              "array([[0.37114517, 0.33240588, 0.29644895],\n",
              "       [0.29405053, 0.34692057, 0.3590289 ],\n",
              "       [0.34607366, 0.35645629, 0.29747005],\n",
              "       [0.37114517, 0.33240588, 0.29644895],\n",
              "       [0.34760134, 0.35746891, 0.29492976],\n",
              "       [0.34791196, 0.35013886, 0.30194918],\n",
              "       [0.37065179, 0.3291708 , 0.30017741],\n",
              "       [0.2894384 , 0.33605208, 0.37450952],\n",
              "       [0.30775295, 0.3847477 , 0.30749935],\n",
              "       [0.29052957, 0.37901444, 0.33045599],\n",
              "       [0.30962119, 0.32976075, 0.36061806],\n",
              "       [0.29681189, 0.32511488, 0.37807323],\n",
              "       [0.37114517, 0.33240588, 0.29644895],\n",
              "       [0.34607366, 0.35645629, 0.29747005],\n",
              "       [0.30275069, 0.32755201, 0.3696973 ],\n",
              "       [0.33613494, 0.37226071, 0.29160435],\n",
              "       [0.37114517, 0.33240588, 0.29644895],\n",
              "       [0.37114517, 0.33240588, 0.29644895],\n",
              "       [0.29403343, 0.35176427, 0.3542023 ],\n",
              "       [0.37114517, 0.33240588, 0.29644895],\n",
              "       [0.35264107, 0.34402445, 0.30333447],\n",
              "       [0.35898448, 0.34366252, 0.297353  ],\n",
              "       [0.36046092, 0.34306066, 0.29647842],\n",
              "       [0.30775295, 0.3847477 , 0.30749935],\n",
              "       [0.29300445, 0.36401413, 0.34298141],\n",
              "       [0.33582319, 0.3687861 , 0.2953907 ],\n",
              "       [0.34555678, 0.35410261, 0.30034061],\n",
              "       [0.29802034, 0.38900537, 0.31297428],\n",
              "       [0.30013177, 0.38142241, 0.31844583],\n",
              "       [0.29402272, 0.32801816, 0.37795912],\n",
              "       [0.37015703, 0.3363247 , 0.29351827],\n",
              "       [0.36746631, 0.33551171, 0.29702198],\n",
              "       [0.30898207, 0.38048216, 0.31053577],\n",
              "       [0.37390869, 0.3260313 , 0.30006002],\n",
              "       [0.37114517, 0.33240588, 0.29644895],\n",
              "       [0.36701081, 0.3381558 , 0.29483338],\n",
              "       [0.30418288, 0.33753957, 0.35827755],\n",
              "       [0.28978697, 0.38138462, 0.3288284 ],\n",
              "       [0.33699926, 0.36995048, 0.29305026],\n",
              "       [0.30275069, 0.32755201, 0.3696973 ],\n",
              "       [0.36191417, 0.35003456, 0.28805127],\n",
              "       [0.37114517, 0.33240588, 0.29644895],\n",
              "       [0.33699926, 0.36995048, 0.29305026],\n",
              "       [0.29938927, 0.37738501, 0.32322572],\n",
              "       [0.30057242, 0.38736868, 0.3120589 ],\n",
              "       [0.36828764, 0.33331771, 0.29839465],\n",
              "       [0.29676547, 0.3342652 , 0.36896933],\n",
              "       [0.32431119, 0.37465811, 0.3010307 ],\n",
              "       [0.30480654, 0.33785162, 0.35734183],\n",
              "       [0.3691008 , 0.33163361, 0.29926559],\n",
              "       [0.29435584, 0.33977696, 0.36586721],\n",
              "       [0.29676947, 0.33945467, 0.36377586],\n",
              "       [0.36746631, 0.33551171, 0.29702198],\n",
              "       [0.30378556, 0.34977976, 0.34643468],\n",
              "       [0.36646251, 0.34462813, 0.28890936],\n",
              "       [0.31035198, 0.38308399, 0.30656403],\n",
              "       [0.31170839, 0.31943945, 0.36885216],\n",
              "       [0.30822089, 0.32637093, 0.36540818],\n",
              "       [0.34453007, 0.36261396, 0.29285598]])"
            ]
          },
          "metadata": {
            "tags": []
          },
          "execution_count": 54
        },
        {
          "output_type": "display_data",
          "data": {
            "image/png": "[encoded data removed]",
            "text/plain": [
              "<matplotlib.figure.Figure at 0x7f953a658b38>"
            ]
          },
          "metadata": {
            "tags": []
          }
        }
      ]
    }
  ]
}